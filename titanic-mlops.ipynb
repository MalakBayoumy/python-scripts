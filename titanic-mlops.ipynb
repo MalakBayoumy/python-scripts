{
 "cells": [
  {
   "cell_type": "code",
   "execution_count": 1,
   "id": "146aeef6-5526-4d11-aa6b-592297cf91a3",
   "metadata": {},
   "outputs": [
    {
     "name": "stdout",
     "output_type": "stream",
     "text": [
      "Collecting hydra-core\n",
      "  Downloading hydra_core-1.3.2-py3-none-any.whl.metadata (5.5 kB)\n",
      "Collecting omegaconf\n",
      "  Downloading omegaconf-2.3.0-py3-none-any.whl.metadata (3.9 kB)\n",
      "Collecting antlr4-python3-runtime==4.9.* (from hydra-core)\n",
      "  Downloading antlr4-python3-runtime-4.9.3.tar.gz (117 kB)\n",
      "  Preparing metadata (setup.py) ... \u001b[?25ldone\n",
      "\u001b[?25hRequirement already satisfied: packaging in /system/conda/miniconda3/envs/cloudspace/lib/python3.10/site-packages (from hydra-core) (24.2)\n",
      "Requirement already satisfied: PyYAML>=5.1.0 in /system/conda/miniconda3/envs/cloudspace/lib/python3.10/site-packages (from omegaconf) (6.0.2)\n",
      "Downloading hydra_core-1.3.2-py3-none-any.whl (154 kB)\n",
      "Downloading omegaconf-2.3.0-py3-none-any.whl (79 kB)\n",
      "Building wheels for collected packages: antlr4-python3-runtime\n",
      "  Building wheel for antlr4-python3-runtime (setup.py) ... \u001b[?25ldone\n",
      "\u001b[?25h  Created wheel for antlr4-python3-runtime: filename=antlr4_python3_runtime-4.9.3-py3-none-any.whl size=144591 sha256=acd615fb7bb8cfdf8feb5074dda0464d303ea8a2c427caec0bc30fe4dd57e641\n",
      "  Stored in directory: /teamspace/studios/this_studio/.cache/pip/wheels/12/93/dd/1f6a127edc45659556564c5730f6d4e300888f4bca2d4c5a88\n",
      "Successfully built antlr4-python3-runtime\n",
      "Installing collected packages: antlr4-python3-runtime, omegaconf, hydra-core\n",
      "Successfully installed antlr4-python3-runtime-4.9.3 hydra-core-1.3.2 omegaconf-2.3.0\n",
      "\n",
      "\u001b[1m[\u001b[0m\u001b[34;49mnotice\u001b[0m\u001b[1;39;49m]\u001b[0m\u001b[39;49m A new release of pip is available: \u001b[0m\u001b[31;49m25.0.1\u001b[0m\u001b[39;49m -> \u001b[0m\u001b[32;49m25.1\u001b[0m\n",
      "\u001b[1m[\u001b[0m\u001b[34;49mnotice\u001b[0m\u001b[1;39;49m]\u001b[0m\u001b[39;49m To update, run: \u001b[0m\u001b[32;49mpip install --upgrade pip\u001b[0m\n"
     ]
    }
   ],
   "source": [
    "!pip install hydra-core omegaconf "
   ]
  },
  {
   "cell_type": "code",
   "execution_count": 1,
   "id": "307cab42-7396-4c46-b391-d391ead4596b",
   "metadata": {},
   "outputs": [],
   "source": [
    "import yaml\n",
    "\n",
    "yaml_content = \"\"\"\n",
    "data:\n",
    "  raw_data_path: data/raw\n",
    "  processed_data_path: data/processed\n",
    "  train: data/raw/train.csv\n",
    "  test: data/raw/test.csv\n",
    "  id_column: PassengerId\n",
    "  features: [\"Pclass\", \"Sex\", \"SibSp\", \"Parch\", \"Age\", \"Fare\", \"Embarked\"]\n",
    "  target_column: Survived\n",
    "  test_size: 0.2\n",
    "  random_state: 42\n",
    "\n",
    "preprocessing:\n",
    "  num_features: [\"Age\", \"Fare\", \"SibSp\", \"Parch\"]\n",
    "  cat_features: [\"Pclass\", \"Sex\", \"Embarked\"]\n",
    "  num_strategy: \"median\"\n",
    "  cat_strategy: \"most_frequent\"\n",
    "\n",
    "model:\n",
    "  model_name: \"RandomForest\"\n",
    "  model_path: models\n",
    "  trained_model_path: ${pipeline.model.model_path}/${pipeline.model.model_name}\n",
    "  params:\n",
    "    n_estimators: 100\n",
    "    max_depth: 10\n",
    "    random_state: 42\n",
    "\n",
    "evaluate:\n",
    "  model_name: ${pipeline.model.model_name}\n",
    "  model_path: ${pipeline.model.model_path}\n",
    "  trained_model_path:  ${pipeline.model.trained_model_path}\n",
    "  reports_path: reports\n",
    "\"\"\"\n",
    "\n",
    "# Save the YAML content to a file\n",
    "with open(\"config.yaml\", \"w\") as f:\n",
    "    f.write(yaml_content)"
   ]
  },
  {
   "cell_type": "code",
   "execution_count": 2,
   "id": "c41f17f1-9a34-4928-ab3f-50daed312f79",
   "metadata": {},
   "outputs": [],
   "source": [
    "# import hydra\n",
    "# hydra.core.global_hydra.GlobalHydra.instance().clear()\n"
   ]
  },
  {
   "cell_type": "code",
   "execution_count": 3,
   "id": "a69be774-7e48-4fba-9eff-45e4f0707338",
   "metadata": {},
   "outputs": [
    {
     "name": "stdout",
     "output_type": "stream",
     "text": [
      "data/raw\n",
      "RandomForest\n"
     ]
    }
   ],
   "source": [
    "from hydra import initialize, compose\n",
    "\n",
    "# Initialize Hydra and load config\n",
    "initialize(config_path=\".\", version_base=None)  \n",
    "cfg = compose(config_name=\"config\")  \n",
    "\n",
    "# Access the configuration values\n",
    "print(cfg.data.raw_data_path)  \n",
    "print(cfg.model.model_name)    \n"
   ]
  },
  {
   "cell_type": "code",
   "execution_count": 4,
   "id": "ec43d4a6-ebf5-4ede-8fc2-dd5c45194abd",
   "metadata": {},
   "outputs": [
    {
     "name": "stdout",
     "output_type": "stream",
     "text": [
      "data/raw/train.csv\n"
     ]
    }
   ],
   "source": [
    "print(cfg.data.train)    \n"
   ]
  },
  {
   "cell_type": "code",
   "execution_count": 5,
   "id": "a9fc45f6-9912-4b23-913e-8b7f6909d243",
   "metadata": {},
   "outputs": [],
   "source": [
    "import pandas as pd\n",
    "# Access the full file paths from config\n",
    "train_file_path = cfg.data.train  \n",
    "test_file_path = cfg.data.test   "
   ]
  },
  {
   "cell_type": "code",
   "execution_count": 6,
   "id": "197edc22-7fce-490e-a2dc-540a8ff7fe54",
   "metadata": {},
   "outputs": [
    {
     "name": "stdout",
     "output_type": "stream",
     "text": [
      "data/raw/train.csv\n",
      "data/raw/test.csv\n"
     ]
    }
   ],
   "source": [
    "print(train_file_path)\n",
    "print(test_file_path)\n"
   ]
  },
  {
   "cell_type": "code",
   "execution_count": 7,
   "id": "b91d1344-68b6-40d1-9818-9a48bc4736f1",
   "metadata": {},
   "outputs": [],
   "source": [
    "# If CSVs are available:\n",
    "train = pd.read_csv(train_file_path)\n",
    "test = pd.read_csv(test_file_path)\n",
    "\n",
    "# Drop unused column\n",
    "train.drop(\"Cabin\", axis=1, inplace=True)\n",
    "test.drop(\"Cabin\", axis=1, inplace=True)"
   ]
  },
  {
   "cell_type": "code",
   "execution_count": 8,
   "id": "867b9868-590c-463d-9b34-0a924d3e8857",
   "metadata": {},
   "outputs": [],
   "source": [
    "X = train[cfg.data.features]\n",
    "y = train[cfg.data.target_column]\n",
    "X_test = test[cfg.data.features]\n",
    "\n",
    "from sklearn.model_selection import train_test_split\n",
    "\n",
    "X_train, X_val, y_train, y_val = train_test_split(\n",
    "    X, y,\n",
    "    test_size=cfg.data.test_size,\n",
    "    random_state=cfg.data.random_state\n",
    ")\n"
   ]
  },
  {
   "cell_type": "code",
   "execution_count": 22,
   "id": "88ac67ec-5676-40e8-b288-f34a3541f095",
   "metadata": {},
   "outputs": [],
   "source": [
    "from sklearn.impute import SimpleImputer\n",
    "from sklearn.preprocessing import OneHotEncoder\n",
    "from sklearn.pipeline import Pipeline\n",
    "from sklearn.compose import ColumnTransformer\n",
    "\n",
    "num_transformer = SimpleImputer(strategy=cfg.preprocessing.num_strategy)\n",
    "cat_transformer = Pipeline([\n",
    "    (\"imputer\", SimpleImputer(strategy=cfg.preprocessing.cat_strategy)),\n",
    "    (\"encoder\", OneHotEncoder(handle_unknown=\"ignore\"))\n",
    "])\n",
    "\n",
    "preprocessor = ColumnTransformer([\n",
    "    (\"num\", num_transformer, list(cfg.preprocessing.num_features)),\n",
    "    (\"cat\", cat_transformer, list(cfg.preprocessing.cat_features))\n",
    "])\n"
   ]
  },
  {
   "cell_type": "code",
   "execution_count": 23,
   "id": "3918dca3-01dc-40db-a98d-bc84c357d5d2",
   "metadata": {},
   "outputs": [],
   "source": [
    "from sklearn.ensemble import RandomForestClassifier\n",
    "from sklearn.linear_model import LogisticRegression\n",
    "\n",
    "model_name = cfg.model.model_name  \n",
    "\n",
    "if model_name == \"RandomForest\":\n",
    "    model = RandomForestClassifier(\n",
    "        n_estimators=cfg.model.params.n_estimators,\n",
    "        max_depth=cfg.model.params.max_depth,\n",
    "        random_state=cfg.model.params.random_state\n",
    "    )\n",
    "elif model_name == \"LogisticRegression\":\n",
    "    model = LogisticRegression(max_iter=1000)\n",
    "else:\n",
    "    raise ValueError(\"Unsupported model specified in config.\")\n"
   ]
  },
  {
   "cell_type": "code",
   "execution_count": 24,
   "id": "05e78b27-9757-475c-9e6b-b2d4a818045d",
   "metadata": {},
   "outputs": [
    {
     "name": "stdout",
     "output_type": "stream",
     "text": [
      "\n",
      "Model: RandomForest\n",
      "Accuracy: 0.8268156424581006\n",
      "Classification Report:\n",
      "               precision    recall  f1-score   support\n",
      "\n",
      "           0       0.82      0.90      0.86       105\n",
      "           1       0.83      0.73      0.78        74\n",
      "\n",
      "    accuracy                           0.83       179\n",
      "   macro avg       0.83      0.81      0.82       179\n",
      "weighted avg       0.83      0.83      0.82       179\n",
      "\n",
      "X_train columns: ['Pclass', 'Sex', 'SibSp', 'Parch', 'Age', 'Fare', 'Embarked']\n",
      "X_val columns: ['Pclass', 'Sex', 'SibSp', 'Parch', 'Age', 'Fare', 'Embarked']\n"
     ]
    }
   ],
   "source": [
    "from sklearn.pipeline import Pipeline\n",
    "from sklearn.metrics import accuracy_score, classification_report\n",
    "\n",
    "pipeline = Pipeline([\n",
    "    (\"preprocessor\", preprocessor),\n",
    "    (\"classifier\", model)\n",
    "])\n",
    "\n",
    "# Fit pipeline\n",
    "pipeline.fit(X_train, y_train)\n",
    "\n",
    "# Predict\n",
    "y_pred = pipeline.predict(X_val)\n",
    "\n",
    "# Evaluate\n",
    "print(f\"\\nModel: {model_name}\")\n",
    "print(\"Accuracy:\", accuracy_score(y_val, y_pred))\n",
    "print(\"Classification Report:\\n\", classification_report(y_val, y_pred))\n",
    "\n",
    "# Debug: Confirm column names\n",
    "print(\"X_train columns:\", X_train.columns.tolist())\n",
    "print(\"X_val columns:\", X_val.columns.tolist())\n"
   ]
  },
  {
   "cell_type": "code",
   "execution_count": 25,
   "id": "6d5ac956-cc9a-4db7-847d-3ebd6152bf36",
   "metadata": {},
   "outputs": [
    {
     "name": "stdout",
     "output_type": "stream",
     "text": [
      "Test predictions complete.\n"
     ]
    }
   ],
   "source": [
    "# Predict on test data using the trained pipeline\n",
    "test_predictions = pipeline.predict(X_test)\n",
    "print(\"Test predictions complete.\")\n"
   ]
  },
  {
   "cell_type": "code",
   "execution_count": null,
   "id": "b9efe694-57c8-47d9-8fd0-ae8b23839e6b",
   "metadata": {},
   "outputs": [],
   "source": []
  },
  {
   "cell_type": "code",
   "execution_count": 5,
   "id": "eac9cf37-a4e2-4ae1-96d0-6f7dadace8bb",
   "metadata": {},
   "outputs": [
    {
     "name": "stdout",
     "output_type": "stream",
     "text": [
      "\n",
      "Model: Random Forest\n",
      "Accuracy: 0.8268156424581006\n",
      "Classification Report:\n",
      "               precision    recall  f1-score   support\n",
      "\n",
      "           0       0.84      0.88      0.86       105\n",
      "           1       0.81      0.76      0.78        74\n",
      "\n",
      "    accuracy                           0.83       179\n",
      "   macro avg       0.82      0.82      0.82       179\n",
      "weighted avg       0.83      0.83      0.83       179\n",
      "\n",
      "\n",
      "Test predictions made using best model: Random Forest\n",
      "\n",
      "Model: Logistic Regression\n",
      "Accuracy: 0.7988826815642458\n",
      "Classification Report:\n",
      "               precision    recall  f1-score   support\n",
      "\n",
      "           0       0.81      0.86      0.83       105\n",
      "           1       0.78      0.72      0.75        74\n",
      "\n",
      "    accuracy                           0.80       179\n",
      "   macro avg       0.80      0.79      0.79       179\n",
      "weighted avg       0.80      0.80      0.80       179\n",
      "\n",
      "\n",
      "Test predictions made using best model: Random Forest\n"
     ]
    }
   ],
   "source": [
    "import pandas as pd\n",
    "from sklearn.model_selection import train_test_split\n",
    "from sklearn.impute import SimpleImputer\n",
    "from sklearn.preprocessing import OneHotEncoder\n",
    "from sklearn.compose import ColumnTransformer\n",
    "from sklearn.pipeline import Pipeline\n",
    "from sklearn.ensemble import RandomForestClassifier\n",
    "from sklearn.linear_model import LogisticRegression\n",
    "from sklearn.metrics import accuracy_score, classification_report\n",
    "\n",
    "# Drop unused column\n",
    "train.drop(\"Cabin\", axis=1, inplace=True)\n",
    "test.drop(\"Cabin\", axis=1, inplace=True)\n",
    "\n",
    "# Features and target\n",
    "features = [\"Pclass\", \"Sex\", \"SibSp\", \"Parch\", \"Age\", \"Fare\", \"Embarked\"]\n",
    "target = \"Survived\"\n",
    "\n",
    "X = train[features]\n",
    "y = train[target]\n",
    "X_test = test[features]\n",
    "\n",
    "# Define numerical and categorical columns\n",
    "num_features = [\"Age\", \"Fare\", \"SibSp\", \"Parch\"]\n",
    "cat_features = [\"Pclass\", \"Sex\", \"Embarked\"]\n",
    "\n",
    "# Define transformers\n",
    "num_transformer = SimpleImputer(strategy=\"median\")\n",
    "cat_transformer = Pipeline(steps=[\n",
    "    (\"imputer\", SimpleImputer(strategy=\"most_frequent\")),\n",
    "    (\"encoder\", OneHotEncoder(handle_unknown=\"ignore\"))\n",
    "])\n",
    "\n",
    "# Combine transformers\n",
    "preprocessor = ColumnTransformer(transformers=[\n",
    "    (\"num\", num_transformer, num_features),\n",
    "    (\"cat\", cat_transformer, cat_features)\n",
    "])\n",
    "\n",
    "# Define two models\n",
    "models = {\n",
    "    \"Random Forest\": RandomForestClassifier(n_estimators=100, random_state=42),\n",
    "    \"Logistic Regression\": LogisticRegression(max_iter=1000)\n",
    "}\n",
    "\n",
    "# Split data\n",
    "X_train, X_val, y_train, y_val = train_test_split(X, y, test_size=0.2, random_state=42)\n",
    "\n",
    "# Train and evaluate each model\n",
    "for name, model in models.items():\n",
    "    pipeline = Pipeline(steps=[\n",
    "        (\"preprocessor\", preprocessor),\n",
    "        (\"classifier\", model)\n",
    "    ])\n",
    "    \n",
    "    pipeline.fit(X_train, y_train)\n",
    "    y_pred = pipeline.predict(X_val)\n",
    "    \n",
    "    print(f\"\\nModel: {name}\")\n",
    "    print(\"Accuracy:\", accuracy_score(y_val, y_pred))\n",
    "    print(\"Classification Report:\\n\", classification_report(y_val, y_pred))\n",
    "    \n",
    "    # Track best model\n",
    "    best_pipeline = None\n",
    "    best_model_name = None\n",
    "    best_accuracy = 0\n",
    "    \n",
    "    # Train and evaluate each model\n",
    "    for name, model in models.items():\n",
    "        pipeline = Pipeline(steps=[\n",
    "            (\"preprocessor\", preprocessor),\n",
    "            (\"classifier\", model)\n",
    "        ])\n",
    "        \n",
    "        pipeline.fit(X_train, y_train)\n",
    "        y_pred = pipeline.predict(X_val)\n",
    "        acc = accuracy_score(y_val, y_pred)\n",
    "    \n",
    "        if acc > best_accuracy:\n",
    "            best_accuracy = acc\n",
    "            best_pipeline = pipeline\n",
    "            best_model_name = name\n",
    "    \n",
    "    # Predict on test data using the best-performing model\n",
    "    test_predictions = best_pipeline.predict(X_test)\n",
    "    \n",
    "    print(f\"\\nTest predictions made using best model: {best_model_name}\")\n",
    "\n"
   ]
  },
  {
   "cell_type": "code",
   "execution_count": null,
   "id": "c4f10a9e-1053-4a16-ab42-ed8d99efa2b2",
   "metadata": {},
   "outputs": [],
   "source": []
  }
 ],
 "metadata": {
  "kernelspec": {
   "display_name": "Python 3",
   "language": "python",
   "name": "python3"
  },
  "language_info": {
   "codemirror_mode": {
    "name": "ipython",
    "version": 3
   },
   "file_extension": ".py",
   "mimetype": "text/x-python",
   "name": "python",
   "nbconvert_exporter": "python",
   "pygments_lexer": "ipython3",
   "version": "3.10.10"
  }
 },
 "nbformat": 4,
 "nbformat_minor": 5
}
